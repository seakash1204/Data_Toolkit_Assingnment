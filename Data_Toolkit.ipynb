{
 "cells": [
  {
   "cell_type": "markdown",
   "id": "a4a6eda6-d996-4322-a195-3a01415402d2",
   "metadata": {},
   "source": [
    "# Data Toolkit Assignment"
   ]
  },
  {
   "cell_type": "markdown",
   "id": "3f21396a-e4ac-418d-9de4-19b2b54d6b61",
   "metadata": {},
   "source": [
    "## Theory Questions and Answers"
   ]
  },
  {
   "cell_type": "markdown",
   "id": "4bcbde95-2460-4366-b8a4-de15a181fd3d",
   "metadata": {},
   "source": [
    "#### Q. No. 1. What is NumPy, and why is it widely used in Python?"
   ]
  },
  {
   "cell_type": "markdown",
   "id": "004ee9da-a280-42ad-9234-c93f421ff099",
   "metadata": {},
   "source": [
    "Ans : NumPy stands for Numerical Python, it is a Python Library. It is used to work with the n-dimensional array. It is also used for working in linear algebra, matrices etc."
   ]
  },
  {
   "cell_type": "markdown",
   "id": "47a230be-a220-4acb-8294-b0604816d334",
   "metadata": {},
   "source": [
    "#### Q. No. 2. A How does broadcasting work in NumPy?"
   ]
  },
  {
   "cell_type": "markdown",
   "id": "8e04ebde-e5d9-4546-9a56-c95b138d8b10",
   "metadata": {},
   "source": [
    "Ans : Broadcasting in NumPy allows you to perform element-wise operations on arrays of different shapes without manually replicating data. It automatically expands smaller arrays to match the shape of larger ones when possible."
   ]
  },
  {
   "cell_type": "markdown",
   "id": "e654a67f-ba3a-486e-bd91-e9eb2379e595",
   "metadata": {},
   "source": [
    "#### Q. No. 3. What is a Pandas DataFrame?"
   ]
  },
  {
   "cell_type": "markdown",
   "id": "28d14e46-901a-4a48-b95f-1e1d269819d5",
   "metadata": {},
   "source": [
    "Ans : Pandas DataFrame is a two-dimensional data structure in Python. The size is mutable and it stores heterogenous (same type) data. It is widely used for data manipulation and analysis"
   ]
  },
  {
   "cell_type": "markdown",
   "id": "8a75cad2-431d-4a82-bb53-a8ea1ffb49fb",
   "metadata": {},
   "source": [
    "#### Q. No. 4. Explain the use of the groupby() method in Pandas."
   ]
  },
  {
   "cell_type": "markdown",
   "id": "74ae5d97-adc0-4074-a4fb-c4baca1e007e",
   "metadata": {},
   "source": [
    "Ans : The groupby() method in Pandas is used to split a DataFrame into groups based on the values in one or more columns and then apply a function (like sum(), mean(), count(), etc.) to each group. This is extremely useful for data aggregation, transformation, and analysis."
   ]
  },
  {
   "cell_type": "markdown",
   "id": "bf058000-8790-4b71-8463-27ebad7791ff",
   "metadata": {},
   "source": [
    "#### Q. No. 5. Why is Seaborn preferred for statistical visualizations?"
   ]
  },
  {
   "cell_type": "markdown",
   "id": "a8bb18ad-5fb1-4b9f-9b3a-882bfc8da73c",
   "metadata": {},
   "source": [
    "Ans : Seaborn is preferred for statistical visualizations in Python because it is built specifically to make exploratory data analysis (EDA) and data relationships easier to understand with minimal code and beautiful, informative visuals."
   ]
  },
  {
   "cell_type": "markdown",
   "id": "57deeff7-6ed7-46e8-a9c9-db9191f7f1b9",
   "metadata": {},
   "source": [
    "#### Q. No. 6. What are the differences between NumPy arrays and Python lists?"
   ]
  },
  {
   "cell_type": "markdown",
   "id": "0882c479-9bff-477e-a5b6-93c99768a697",
   "metadata": {},
   "source": [
    "Ans : \n",
    "\n",
    "NumPy Arrays: Much faster and more memory-efficient, especially for large numerical datasets.\n",
    "\n",
    "Python Lists: Slower and less efficient due to being general-purpose containers."
   ]
  },
  {
   "cell_type": "markdown",
   "id": "313a69d3-98f6-4022-bf0d-162afa2a5f5b",
   "metadata": {},
   "source": [
    "#### Q. No. 7. What is a heatmap, and when should it be used?"
   ]
  },
  {
   "cell_type": "markdown",
   "id": "c36f3d55-a173-423a-972a-f6c09d3eecf7",
   "metadata": {},
   "source": [
    "Ans : A heatmap is a data visualization tool that uses color gradients to represent the magnitude of values in a 2D matrix or table. Each cell in the matrix is colored based on its value — typically, darker or more intense colors represent higher values."
   ]
  },
  {
   "cell_type": "markdown",
   "id": "f554e93a-de43-4f71-b763-d66a9027abc4",
   "metadata": {},
   "source": [
    "#### Q. No. 8. What does the term “vectorized operation” mean in NumPy?"
   ]
  },
  {
   "cell_type": "markdown",
   "id": "9165ef45-5455-4b88-b09b-7a7f9e6c588d",
   "metadata": {},
   "source": [
    "Ans : Vectorized operation in NumPy refers to performing element-wise operations on entire arrays without using explicit Python loops. These operations are done using optimized C-level code under the hood, making them faster and more efficient."
   ]
  },
  {
   "cell_type": "markdown",
   "id": "4fc570f6-9ab2-4556-85a0-8f8809db5cb6",
   "metadata": {},
   "source": [
    "#### Q. No. 9. A How does Matplotlib differ from Plotly?"
   ]
  },
  {
   "cell_type": "markdown",
   "id": "9a047181-3fdf-40d5-bb2f-28b0ed475c74",
   "metadata": {},
   "source": [
    "Ans : Matplotlib and Plotly are both popular Python libraries for data visualization, but they serve different purposes. Matplotlib is ideal for creating static, publication-quality plots with full customization, making it suitable for academic and professional reports. However, its visuals are not interactive by default. Plotly, on the other hand, excels in creating interactive, web-based visualizations with minimal code. It supports zooming, hovering, and 3D plots, making it perfect for dashboards and data exploration. While Matplotlib offers more control and performance for static plots, Plotly is better suited for interactive and visually appealing charts used in modern data analysis"
   ]
  },
  {
   "cell_type": "markdown",
   "id": "5d901f5a-f697-4225-9861-5b9ba04366c6",
   "metadata": {},
   "source": [
    "#### Q. No. 10. What is the significance of hierarchical indexing in Pandas?"
   ]
  },
  {
   "cell_type": "markdown",
   "id": "c4b51d90-008f-4053-97d4-3f2fd865685d",
   "metadata": {},
   "source": [
    "Ans :  Hierarchical indexing (also called MultiIndexing) in Pandas is a powerful feature that allows you to have multiple levels of indexes on a DataFrame or Series. This enables more complex data structures and makes it easier to analyze, group, reshape, and slice multi-dimensional data in a 2D tabular format."
   ]
  },
  {
   "cell_type": "markdown",
   "id": "b9ffe5bf-cfca-4b10-a507-3ab39fbc1700",
   "metadata": {},
   "source": [
    "#### Q. No. 11. What is the role of Seaborn’s pairplot() function?"
   ]
  },
  {
   "cell_type": "markdown",
   "id": "7aec36c9-cc04-464c-8a18-6a85e3c243a2",
   "metadata": {},
   "source": [
    "Ans : The pairplot() function in Seaborn plays a key role in exploratory data analysis (EDA) by allowing you to visualize relationships between multiple numerical variables in a dataset simultaneously. It creates a grid of scatter plots for each pairwise combination of numeric columns and also includes histograms or KDE plots along the diagonal to show the distribution of each variable."
   ]
  },
  {
   "cell_type": "markdown",
   "id": "942bec5d-e6c3-49d8-8bc5-70b1dca40329",
   "metadata": {},
   "source": [
    "#### Q. No. 12. What is the purpose of the describe() function in Pandas?"
   ]
  },
  {
   "cell_type": "markdown",
   "id": "7554ac4c-d141-4213-8357-3eb839c25bf6",
   "metadata": {},
   "source": [
    "Ans : The describe() function in Pandas is used to generate summary statistics of a DataFrame or Series. It provides a quick overview of the central tendency, dispersion, and distribution of numerical (and optionally categorical) data."
   ]
  },
  {
   "cell_type": "markdown",
   "id": "b9dce8dc-14f2-4646-868b-5c27198c0889",
   "metadata": {},
   "source": [
    "#### Q. No. 13. Why is handling missing data important in Pandas?"
   ]
  },
  {
   "cell_type": "markdown",
   "id": "6d07f849-2615-4097-bdaa-fce15fdf14cc",
   "metadata": {},
   "source": [
    "Ans : Handling missing data is crucial in Pandas because incomplete or null values can distort analysis, lead to incorrect conclusions, and cause errors in modeling or visualization. Real-world datasets often contain missing values due to data entry errors, sensor failures, or unavailable information. If not properly addressed, these gaps can negatively impact the accuracy and reliability of your results."
   ]
  },
  {
   "cell_type": "markdown",
   "id": "883f8374-a3e1-412b-ba63-54f4e5911322",
   "metadata": {},
   "source": [
    "#### Q. No. 14. What are the benefits of using Plotly for data visualization?"
   ]
  },
  {
   "cell_type": "markdown",
   "id": "ceb3ba6f-63fc-46de-88e3-fe519d77fd8d",
   "metadata": {},
   "source": [
    "Ans : Plotly offers several powerful benefits for data visualization, especially when working with interactive and web-based plots. It is a high-level library built on top of D3.js, HTML, and JavaScript, making it ideal for modern data analysis and presentation."
   ]
  },
  {
   "cell_type": "markdown",
   "id": "b86bdc13-e640-4a61-b793-1e913ca70299",
   "metadata": {},
   "source": [
    "#### Q. No. 15. How does NumPy handle multidimensional arrays?"
   ]
  },
  {
   "cell_type": "markdown",
   "id": "d3df90b7-7b29-4943-9b7f-f48cd4dee781",
   "metadata": {},
   "source": [
    "Ans : NumPy handles multidimensional arrays using its core object called the ndarray (n-dimensional array). This allows NumPy to efficiently store and operate on data in two or more dimensions, such as matrices, 3D tensors, or higher-dimensional data structures."
   ]
  },
  {
   "cell_type": "markdown",
   "id": "823c39e5-3830-4994-b4cc-eae4bf712b2f",
   "metadata": {},
   "source": [
    "#### Q. No. 16. What is the role of Bokeh in data visualization?"
   ]
  },
  {
   "cell_type": "markdown",
   "id": "22064aca-e9c0-4d70-86bf-d0157ba199ff",
   "metadata": {},
   "source": [
    "Ans : Bokeh is a powerful Python library used for creating interactive, browser-based data visualizations. Its primary role is to help data scientists, analysts, and developers build dynamic and visually rich charts that can be easily embedded in web applications or dashboards."
   ]
  },
  {
   "cell_type": "markdown",
   "id": "6c18da0c-f23f-4b88-8622-1bafbc21dadf",
   "metadata": {},
   "source": [
    "#### Q. No. 17. Explain the difference between apply() and map() in Pandas."
   ]
  },
  {
   "cell_type": "markdown",
   "id": "2774f637-a511-46f8-9315-811ff68abd03",
   "metadata": {},
   "source": [
    "Ans : In Pandas, both apply() and map() are used to manipulate and transform data in a DataFrame or Series, but they differ in scope, flexibility, and use cases.\n",
    "\n",
    "map() – Used for Series (1D)\n",
    "\n",
    "apply() – Used for Series & DataFrames (1D or 2D)"
   ]
  },
  {
   "cell_type": "markdown",
   "id": "c8ecdf48-f2b0-4c19-9c23-6dd100ccaddb",
   "metadata": {},
   "source": [
    "#### Q. No. 18. What are some advanced features of NumPy?"
   ]
  },
  {
   "cell_type": "markdown",
   "id": "fe5305d5-8a8b-4e3a-a88f-be3092cfe883",
   "metadata": {},
   "source": [
    "Ans : NumPy is a powerful numerical computing library in Python, and beyond its basic array operations, it offers advanced features that make it highly efficient and suitable for scientific computing, machine learning, and large-scale data processing."
   ]
  },
  {
   "cell_type": "markdown",
   "id": "ae361236-c768-4cce-b3a2-046313c4881d",
   "metadata": {},
   "source": [
    "#### Q. No. 19. How does Pandas simplify time series analysis?"
   ]
  },
  {
   "cell_type": "markdown",
   "id": "c53ad282-778d-409c-8864-872e01cada49",
   "metadata": {},
   "source": [
    "Ans : Pandas greatly simplifies time series analysis by providing powerful, high-level tools for handling and analyzing time-stamped data. It enables users to efficiently manipulate dates, resample data, perform rolling statistics, and more — all with intuitive syntax."
   ]
  },
  {
   "cell_type": "markdown",
   "id": "beb9f832-639d-4d40-bdfc-4211a64b2413",
   "metadata": {},
   "source": [
    "#### Q. No. 20. What is the role of a pivot table in Pandas?"
   ]
  },
  {
   "cell_type": "markdown",
   "id": "331398bf-5a75-4501-ba74-afe2bc1f17df",
   "metadata": {},
   "source": [
    "Ans : A pivot table in Pandas plays a crucial role in summarizing, analyzing, and reshaping data. It allows you to aggregate data across different categories and dimensions in a highly organized and readable format — similar to Excel's pivot tables.|\n",
    "\n",
    "Key Roles of a Pivot Table in Pandas\n",
    "1. Data Summarization\n",
    "2. Multi-dimensional Analysis\n",
    "3. Easy Grouping and Aggregation\n",
    "4. Customizable Aggregation Functions\n",
    "5. Reshaping Data"
   ]
  },
  {
   "cell_type": "markdown",
   "id": "1488ee9e-15a9-45a5-8d58-7230521e668a",
   "metadata": {},
   "source": [
    "#### Q. No. 21. What is the role of a pivot table in Pandas?"
   ]
  },
  {
   "cell_type": "markdown",
   "id": "7397c1c6-9f89-42ec-b705-ae6c3b89c6f8",
   "metadata": {},
   "source": [
    "Ans : The role of a pivot table in Pandas is to summarize and analyze data efficiently by reorganizing it into a more readable and structured format. It allows users to group data based on one or more keys (columns), apply aggregation functions like sum, mean, or count, and display the results in a table format.\n",
    "\n",
    "For example, if you have sales data for multiple departments and months, a pivot table can quickly show the total sales per department per month. This makes it easier to identify patterns, trends, and insights in large datasets, similar to pivot tables in Excel."
   ]
  },
  {
   "cell_type": "markdown",
   "id": "e10b9a3d-e7a9-4dca-94e1-e023d726882c",
   "metadata": {},
   "source": [
    "#### Q. No. 22. What are some common use cases for Seaborn?"
   ]
  },
  {
   "cell_type": "markdown",
   "id": "69964307-5b0b-4472-a010-fb3011f7bd92",
   "metadata": {},
   "source": [
    "Ans : Seaborn is a powerful Python library built on top of Matplotlib that simplifies statistical data visualization. It provides high-level functions for drawing attractive and informative charts with minimal code.\n",
    "\n",
    "Common Use Cases for Seaborn:\n",
    "1. Exploratory Data Analysis (EDA)\n",
    "2. Visualizing Distributions\n",
    "3. Category-wise Comparisons\n",
    "4. Correlation Analysis\n",
    "5. Time Series and Trends\n",
    "6.  Multivariate Data Visualization\n",
    "7.  Regression Analysis"
   ]
  },
  {
   "cell_type": "markdown",
   "id": "dc6bd899-544f-45f8-9e9a-d0c46ba3aa6f",
   "metadata": {},
   "source": [
    "# Practical Question ans Solution"
   ]
  },
  {
   "cell_type": "markdown",
   "id": "56073395-69b2-4f87-a6c4-9b9ad1e37444",
   "metadata": {},
   "source": [
    "#### Q. No. 1.  How do you create a 2D NumPy array and calculate the sum of each row?"
   ]
  },
  {
   "cell_type": "code",
   "execution_count": 24,
   "id": "9df2712b-5a08-43a1-a528-44876305a276",
   "metadata": {},
   "outputs": [
    {
     "name": "stdout",
     "output_type": "stream",
     "text": [
      "Sum of each row is : [ 6 15 24]\n"
     ]
    }
   ],
   "source": [
    "import numpy as np\n",
    "\n",
    "array_2d = np.array([[1, 2, 3],\n",
    "                     [4, 5, 6],\n",
    "                     [7, 8, 9]])\n",
    "\n",
    "row_sums = np.sum(array_2d, axis=1)\n",
    "print(\"Sum of each row is :\",row_sums)"
   ]
  },
  {
   "cell_type": "markdown",
   "id": "f4269514-fd0d-49bd-8aba-72addd3427d0",
   "metadata": {},
   "source": [
    "#### Q. No. 2. Write a Pandas script to find the mean of a specific column in a DataFrame?"
   ]
  },
  {
   "cell_type": "code",
   "execution_count": 1,
   "id": "a6cb225e-78aa-45af-a947-7eb0661afdea",
   "metadata": {},
   "outputs": [
    {
     "name": "stdout",
     "output_type": "stream",
     "text": [
      "The mean of the 'Salary' column is: 65000.0\n"
     ]
    }
   ],
   "source": [
    "import pandas as pd\n",
    "\n",
    "data = {\n",
    "    'Name': ['Akash', 'Vikash', 'Rupesh', 'Suresh'],\n",
    "    'Age': [25, 30, 35, 40],\n",
    "    'Salary': [50000, 60000, 70000, 80000]\n",
    "}\n",
    "\n",
    "df = pd.DataFrame(data)\n",
    "salary_mean = df['Salary'].mean()\n",
    "\n",
    "print(f\"The mean of the 'Salary' column is: {salary_mean}\")\n"
   ]
  },
  {
   "cell_type": "markdown",
   "id": "9bbde86e-604e-48b1-aeb9-e8cb6bead85b",
   "metadata": {},
   "source": [
    "#### Q. No. 3. Create a scatter plot using Matplotlib?"
   ]
  },
  {
   "cell_type": "code",
   "execution_count": 4,
   "id": "fea77915-12dd-4c2d-805b-c4c04ab469a3",
   "metadata": {},
   "outputs": [
    {
     "data": {
      "image/png": "[encoded data removed]",
      "text/plain": [
       "<Figure size 640x480 with 1 Axes>"
      ]
     },
     "metadata": {},
     "output_type": "display_data"
    }
   ],
   "source": [
    "import matplotlib.pyplot as plt\n",
    "\n",
    "x = [1, 2, 3, 4, 5]\n",
    "y = [10, 20, 25, 30, 40]\n",
    "\n",
    "plt.scatter(x, y, color='blue', marker='o')\n",
    "\n",
    "plt.xlabel('X-axis')\n",
    "plt.ylabel('Y-axis')\n",
    "plt.title('Sample Scatter Plot')\n",
    "\n",
    "plt.grid(True)\n",
    "plt.show()\n"
   ]
  },
  {
   "cell_type": "markdown",
   "id": "71f328db-0e9a-48f4-990d-ec000907e424",
   "metadata": {},
   "source": [
    "#### Q. No. 4. How do you calculate the correlation matrix using Seaborn and visualize it with a heatmap?"
   ]
  },
  {
   "cell_type": "code",
   "execution_count": 8,
   "id": "9f9e4675-45ba-4501-9a9f-1af59016e821",
   "metadata": {},
   "outputs": [
    {
     "data": {
      "image/png": "[encoded data removed]",
      "text/plain": [
       "<Figure size 800x600 with 2 Axes>"
      ]
     },
     "metadata": {},
     "output_type": "display_data"
    }
   ],
   "source": [
    "import pandas as pd\n",
    "import seaborn as sns\n",
    "import matplotlib.pyplot as plt\n",
    "\n",
    "data = {\n",
    "    'Math': [85, 90, 78, 92, 88],\n",
    "    'Science': [80, 85, 75, 95, 89],\n",
    "    'English': [78, 83, 72, 88, 84],\n",
    "    'History': [70, 75, 68, 80, 76]\n",
    "}\n",
    "\n",
    "df = pd.DataFrame(data)\n",
    "corr_matrix = df.corr()\n",
    "\n",
    "plt.figure(figsize=(8, 6))\n",
    "sns.heatmap(corr_matrix, annot=True, cmap='coolwarm', fmt=\".2f\", linewidths=0.5)\n",
    "\n",
    "plt.title(\"Correlation Matrix Heatmap\")\n",
    "\n",
    "plt.show()\n"
   ]
  },
  {
   "cell_type": "markdown",
   "id": "92565d53-6a5f-47e4-a197-e0812c9374ab",
   "metadata": {},
   "source": [
    "#### Q. No. 5. Generate a bar plot using Plotly."
   ]
  },
  {
   "cell_type": "code",
   "execution_count": 13,
   "id": "93d08c88-5162-4457-876e-f17c2a235450",
   "metadata": {},
   "outputs": [
    {
     "data": {
      "application/vnd.plotly.v1+json": {
       "config": {
        "plotlyServerURL": "https://plot.ly"
       },
       "data": [
        {
         "hovertemplate": "City=%{x}<br>Population (in millions)=%{y}<extra></extra>",
         "legendgroup": "Delhi",
         "marker": {
          "color": "#636efa",
          "pattern": {
           "shape": ""
          }
         },
         "name": "Delhi",
         "orientation": "v",
         "showlegend": true,
         "textposition": "auto",
         "type": "bar",
         "x": [
          "Delhi"
         ],
         "xaxis": "x",
         "y": {
          "bdata": "wOohAQ==",
          "dtype": "i4"
         },
         "yaxis": "y"
        },
        {
         "hovertemplate": "City=%{x}<br>Population (in millions)=%{y}<extra></extra>",
         "legendgroup": "Mumbai",
         "marker": {
          "color": "#EF553B",
          "pattern": {
           "shape": ""
          }
         },
         "name": "Mumbai",
         "orientation": "v",
         "showlegend": true,
         "textposition": "auto",
         "type": "bar",
         "x": [
          "Mumbai"
         ],
         "xaxis": "x",
         "y": {
          "bdata": "AC0xAQ==",
          "dtype": "i4"
         },
         "yaxis": "y"
        },
        {
         "hovertemplate": "City=%{x}<br>Population (in millions)=%{y}<extra></extra>",
         "legendgroup": "Bangalore",
         "marker": {
          "color": "#00cc96",
          "pattern": {
           "shape": ""
          }
         },
         "name": "Bangalore",
         "orientation": "v",
         "showlegend": true,
         "textposition": "auto",
         "type": "bar",
         "x": [
          "Bangalore"
         ],
         "xaxis": "x",
         "y": {
          "bdata": "ABu3AA==",
          "dtype": "i4"
         },
         "yaxis": "y"
        },
        {
         "hovertemplate": "City=%{x}<br>Population (in millions)=%{y}<extra></extra>",
         "legendgroup": "Chennai",
         "marker": {
          "color": "#ab63fa",
          "pattern": {
           "shape": ""
          }
         },
         "name": "Chennai",
         "orientation": "v",
         "showlegend": true,
         "textposition": "auto",
         "type": "bar",
         "x": [
          "Chennai"
         ],
         "xaxis": "x",
         "y": {
          "bdata": "gJaYAA==",
          "dtype": "i4"
         },
         "yaxis": "y"
        },
        {
         "hovertemplate": "City=%{x}<br>Population (in millions)=%{y}<extra></extra>",
         "legendgroup": "Kolkata",
         "marker": {
          "color": "#FFA15A",
          "pattern": {
           "shape": ""
          }
         },
         "name": "Kolkata",
         "orientation": "v",
         "showlegend": true,
         "textposition": "auto",
         "type": "bar",
         "x": [
          "Kolkata"
         ],
         "xaxis": "x",
         "y": {
          "bdata": "wOHkAA==",
          "dtype": "i4"
         },
         "yaxis": "y"
        }
       ],
       "layout": {
        "barmode": "relative",
        "legend": {
         "title": {
          "text": "City"
         },
         "tracegroupgap": 0
        },
        "template": {
         "data": {
          "bar": [
           {
            "error_x": {
             "color": "#2a3f5f"
            },
            "error_y": {
             "color": "#2a3f5f"
            },
            "marker": {
             "line": {
              "color": "#E5ECF6",
              "width": 0.5
             },
             "pattern": {
              "fillmode": "overlay",
              "size": 10,
              "solidity": 0.2
             }
            },
            "type": "bar"
           }
          ],
          "barpolar": [
           {
            "marker": {
             "line": {
              "color": "#E5ECF6",
              "width": 0.5
             },
             "pattern": {
              "fillmode": "overlay",
              "size": 10,
              "solidity": 0.2
             }
            },
            "type": "barpolar"
           }
          ],
          "carpet": [
           {
            "aaxis": {
             "endlinecolor": "#2a3f5f",
             "gridcolor": "white",
             "linecolor": "white",
             "minorgridcolor": "white",
             "startlinecolor": "#2a3f5f"
            },
            "baxis": {
             "endlinecolor": "#2a3f5f",
             "gridcolor": "white",
             "linecolor": "white",
             "minorgridcolor": "white",
             "startlinecolor": "#2a3f5f"
            },
            "type": "carpet"
           }
          ],
          "choropleth": [
           {
            "colorbar": {
             "outlinewidth": 0,
             "ticks": ""
            },
            "type": "choropleth"
           }
          ],
          "contour": [
           {
            "colorbar": {
             "outlinewidth": 0,
             "ticks": ""
            },
            "colorscale": [
             [
              0,
              "#0d0887"
             ],
             [
              0.1111111111111111,
              "#46039f"
             ],
             [
              0.2222222222222222,
              "#7201a8"
             ],
             [
              0.3333333333333333,
              "#9c179e"
             ],
             [
              0.4444444444444444,
              "#bd3786"
             ],
             [
              0.5555555555555556,
              "#d8576b"
             ],
             [
              0.6666666666666666,
              "#ed7953"
             ],
             [
              0.7777777777777778,
              "#fb9f3a"
             ],
             [
              0.8888888888888888,
              "#fdca26"
             ],
             [
              1,
              "#f0f921"
             ]
            ],
            "type": "contour"
           }
          ],
          "contourcarpet": [
           {
            "colorbar": {
             "outlinewidth": 0,
             "ticks": ""
            },
            "type": "contourcarpet"
           }
          ],
          "heatmap": [
           {
            "colorbar": {
             "outlinewidth": 0,
             "ticks": ""
            },
            "colorscale": [
             [
              0,
              "#0d0887"
             ],
             [
              0.1111111111111111,
              "#46039f"
             ],
             [
              0.2222222222222222,
              "#7201a8"
             ],
             [
              0.3333333333333333,
              "#9c179e"
             ],
             [
              0.4444444444444444,
              "#bd3786"
             ],
             [
              0.5555555555555556,
              "#d8576b"
             ],
             [
              0.6666666666666666,
              "#ed7953"
             ],
             [
              0.7777777777777778,
              "#fb9f3a"
             ],
             [
              0.8888888888888888,
              "#fdca26"
             ],
             [
              1,
              "#f0f921"
             ]
            ],
            "type": "heatmap"
           }
          ],
          "histogram": [
           {
            "marker": {
             "pattern": {
              "fillmode": "overlay",
              "size": 10,
              "solidity": 0.2
             }
            },
            "type": "histogram"
           }
          ],
          "histogram2d": [
           {
            "colorbar": {
             "outlinewidth": 0,
             "ticks": ""
            },
            "colorscale": [
             [
              0,
              "#0d0887"
             ],
             [
              0.1111111111111111,
              "#46039f"
             ],
             [
              0.2222222222222222,
              "#7201a8"
             ],
             [
              0.3333333333333333,
              "#9c179e"
             ],
             [
              0.4444444444444444,
              "#bd3786"
             ],
             [
              0.5555555555555556,
              "#d8576b"
             ],
             [
              0.6666666666666666,
              "#ed7953"
             ],
             [
              0.7777777777777778,
              "#fb9f3a"
             ],
             [
              0.8888888888888888,
              "#fdca26"
             ],
             [
              1,
              "#f0f921"
             ]
            ],
            "type": "histogram2d"
           }
          ],
          "histogram2dcontour": [
           {
            "colorbar": {
             "outlinewidth": 0,
             "ticks": ""
            },
            "colorscale": [
             [
              0,
              "#0d0887"
             ],
             [
              0.1111111111111111,
              "#46039f"
             ],
             [
              0.2222222222222222,
              "#7201a8"
             ],
             [
              0.3333333333333333,
              "#9c179e"
             ],
             [
              0.4444444444444444,
              "#bd3786"
             ],
             [
              0.5555555555555556,
              "#d8576b"
             ],
             [
              0.6666666666666666,
              "#ed7953"
             ],
             [
              0.7777777777777778,
              "#fb9f3a"
             ],
             [
              0.8888888888888888,
              "#fdca26"
             ],
             [
              1,
              "#f0f921"
             ]
            ],
            "type": "histogram2dcontour"
           }
          ],
          "mesh3d": [
           {
            "colorbar": {
             "outlinewidth": 0,
             "ticks": ""
            },
            "type": "mesh3d"
           }
          ],
          "parcoords": [
           {
            "line": {
             "colorbar": {
              "outlinewidth": 0,
              "ticks": ""
             }
            },
            "type": "parcoords"
           }
          ],
          "pie": [
           {
            "automargin": true,
            "type": "pie"
           }
          ],
          "scatter": [
           {
            "fillpattern": {
             "fillmode": "overlay",
             "size": 10,
             "solidity": 0.2
            },
            "type": "scatter"
           }
          ],
          "scatter3d": [
           {
            "line": {
             "colorbar": {
              "outlinewidth": 0,
              "ticks": ""
             }
            },
            "marker": {
             "colorbar": {
              "outlinewidth": 0,
              "ticks": ""
             }
            },
            "type": "scatter3d"
           }
          ],
          "scattercarpet": [
           {
            "marker": {
             "colorbar": {
              "outlinewidth": 0,
              "ticks": ""
             }
            },
            "type": "scattercarpet"
           }
          ],
          "scattergeo": [
           {
            "marker": {
             "colorbar": {
              "outlinewidth": 0,
              "ticks": ""
             }
            },
            "type": "scattergeo"
           }
          ],
          "scattergl": [
           {
            "marker": {
             "colorbar": {
              "outlinewidth": 0,
              "ticks": ""
             }
            },
            "type": "scattergl"
           }
          ],
          "scattermap": [
           {
            "marker": {
             "colorbar": {
              "outlinewidth": 0,
              "ticks": ""
             }
            },
            "type": "scattermap"
           }
          ],
          "scattermapbox": [
           {
            "marker": {
             "colorbar": {
              "outlinewidth": 0,
              "ticks": ""
             }
            },
            "type": "scattermapbox"
           }
          ],
          "scatterpolar": [
           {
            "marker": {
             "colorbar": {
              "outlinewidth": 0,
              "ticks": ""
             }
            },
            "type": "scatterpolar"
           }
          ],
          "scatterpolargl": [
           {
            "marker": {
             "colorbar": {
              "outlinewidth": 0,
              "ticks": ""
             }
            },
            "type": "scatterpolargl"
           }
          ],
          "scatterternary": [
           {
            "marker": {
             "colorbar": {
              "outlinewidth": 0,
              "ticks": ""
             }
            },
            "type": "scatterternary"
           }
          ],
          "surface": [
           {
            "colorbar": {
             "outlinewidth": 0,
             "ticks": ""
            },
            "colorscale": [
             [
              0,
              "#0d0887"
             ],
             [
              0.1111111111111111,
              "#46039f"
             ],
             [
              0.2222222222222222,
              "#7201a8"
             ],
             [
              0.3333333333333333,
              "#9c179e"
             ],
             [
              0.4444444444444444,
              "#bd3786"
             ],
             [
              0.5555555555555556,
              "#d8576b"
             ],
             [
              0.6666666666666666,
              "#ed7953"
             ],
             [
              0.7777777777777778,
              "#fb9f3a"
             ],
             [
              0.8888888888888888,
              "#fdca26"
             ],
             [
              1,
              "#f0f921"
             ]
            ],
            "type": "surface"
           }
          ],
          "table": [
           {
            "cells": {
             "fill": {
              "color": "#EBF0F8"
             },
             "line": {
              "color": "white"
             }
            },
            "header": {
             "fill": {
              "color": "#C8D4E3"
             },
             "line": {
              "color": "white"
             }
            },
            "type": "table"
           }
          ]
         },
         "layout": {
          "annotationdefaults": {
           "arrowcolor": "#2a3f5f",
           "arrowhead": 0,
           "arrowwidth": 1
          },
          "autotypenumbers": "strict",
          "coloraxis": {
           "colorbar": {
            "outlinewidth": 0,
            "ticks": ""
           }
          },
          "colorscale": {
           "diverging": [
            [
             0,
             "#8e0152"
            ],
            [
             0.1,
             "#c51b7d"
            ],
            [
             0.2,
             "#de77ae"
            ],
            [
             0.3,
             "#f1b6da"
            ],
            [
             0.4,
             "#fde0ef"
            ],
            [
             0.5,
             "#f7f7f7"
            ],
            [
             0.6,
             "#e6f5d0"
            ],
            [
             0.7,
             "#b8e186"
            ],
            [
             0.8,
             "#7fbc41"
            ],
            [
             0.9,
             "#4d9221"
            ],
            [
             1,
             "#276419"
            ]
           ],
           "sequential": [
            [
             0,
             "#0d0887"
            ],
            [
             0.1111111111111111,
             "#46039f"
            ],
            [
             0.2222222222222222,
             "#7201a8"
            ],
            [
             0.3333333333333333,
             "#9c179e"
            ],
            [
             0.4444444444444444,
             "#bd3786"
            ],
            [
             0.5555555555555556,
             "#d8576b"
            ],
            [
             0.6666666666666666,
             "#ed7953"
            ],
            [
             0.7777777777777778,
             "#fb9f3a"
            ],
            [
             0.8888888888888888,
             "#fdca26"
            ],
            [
             1,
             "#f0f921"
            ]
           ],
           "sequentialminus": [
            [
             0,
             "#0d0887"
            ],
            [
             0.1111111111111111,
             "#46039f"
            ],
            [
             0.2222222222222222,
             "#7201a8"
            ],
            [
             0.3333333333333333,
             "#9c179e"
            ],
            [
             0.4444444444444444,
             "#bd3786"
            ],
            [
             0.5555555555555556,
             "#d8576b"
            ],
            [
             0.6666666666666666,
             "#ed7953"
            ],
            [
             0.7777777777777778,
             "#fb9f3a"
            ],
            [
             0.8888888888888888,
             "#fdca26"
            ],
            [
             1,
             "#f0f921"
            ]
           ]
          },
          "colorway": [
           "#636efa",
           "#EF553B",
           "#00cc96",
           "#ab63fa",
           "#FFA15A",
           "#19d3f3",
           "#FF6692",
           "#B6E880",
           "#FF97FF",
           "#FECB52"
          ],
          "font": {
           "color": "#2a3f5f"
          },
          "geo": {
           "bgcolor": "white",
           "lakecolor": "white",
           "landcolor": "#E5ECF6",
           "showlakes": true,
           "showland": true,
           "subunitcolor": "white"
          },
          "hoverlabel": {
           "align": "left"
          },
          "hovermode": "closest",
          "mapbox": {
           "style": "light"
          },
          "paper_bgcolor": "white",
          "plot_bgcolor": "#E5ECF6",
          "polar": {
           "angularaxis": {
            "gridcolor": "white",
            "linecolor": "white",
            "ticks": ""
           },
           "bgcolor": "#E5ECF6",
           "radialaxis": {
            "gridcolor": "white",
            "linecolor": "white",
            "ticks": ""
           }
          },
          "scene": {
           "xaxis": {
            "backgroundcolor": "#E5ECF6",
            "gridcolor": "white",
            "gridwidth": 2,
            "linecolor": "white",
            "showbackground": true,
            "ticks": "",
            "zerolinecolor": "white"
           },
           "yaxis": {
            "backgroundcolor": "#E5ECF6",
            "gridcolor": "white",
            "gridwidth": 2,
            "linecolor": "white",
            "showbackground": true,
            "ticks": "",
            "zerolinecolor": "white"
           },
           "zaxis": {
            "backgroundcolor": "#E5ECF6",
            "gridcolor": "white",
            "gridwidth": 2,
            "linecolor": "white",
            "showbackground": true,
            "ticks": "",
            "zerolinecolor": "white"
           }
          },
          "shapedefaults": {
           "line": {
            "color": "#2a3f5f"
           }
          },
          "ternary": {
           "aaxis": {
            "gridcolor": "white",
            "linecolor": "white",
            "ticks": ""
           },
           "baxis": {
            "gridcolor": "white",
            "linecolor": "white",
            "ticks": ""
           },
           "bgcolor": "#E5ECF6",
           "caxis": {
            "gridcolor": "white",
            "linecolor": "white",
            "ticks": ""
           }
          },
          "title": {
           "x": 0.05
          },
          "xaxis": {
           "automargin": true,
           "gridcolor": "white",
           "linecolor": "white",
           "ticks": "",
           "title": {
            "standoff": 15
           },
           "zerolinecolor": "white",
           "zerolinewidth": 2
          },
          "yaxis": {
           "automargin": true,
           "gridcolor": "white",
           "linecolor": "white",
           "ticks": "",
           "title": {
            "standoff": 15
           },
           "zerolinecolor": "white",
           "zerolinewidth": 2
          }
         }
        },
        "title": {
         "text": "Population of Indian Cities"
        },
        "xaxis": {
         "anchor": "y",
         "categoryarray": [
          "Delhi",
          "Mumbai",
          "Bangalore",
          "Chennai",
          "Kolkata"
         ],
         "categoryorder": "array",
         "domain": [
          0,
          1
         ],
         "title": {
          "text": "City"
         }
        },
        "yaxis": {
         "anchor": "x",
         "domain": [
          0,
          1
         ],
         "title": {
          "text": "Population (in millions)"
         }
        }
       }
      }
     },
     "metadata": {},
     "output_type": "display_data"
    }
   ],
   "source": [
    "import plotly.express as px\n",
    "import pandas as pd\n",
    "\n",
    "data = {\n",
    "    'City': ['Delhi', 'Mumbai', 'Bangalore', 'Chennai', 'Kolkata'],\n",
    "    'Population': [19000000, 20000000, 12000000, 10000000, 15000000]\n",
    "}\n",
    "\n",
    "df = pd.DataFrame(data)\n",
    "\n",
    "fig = px.bar(df, x='City', y='Population', title='Population of Indian Cities',\n",
    "             labels={'Population': 'Population (in millions)'}, color='City')\n",
    "fig.show()\n"
   ]
  },
  {
   "cell_type": "markdown",
   "id": "ffe27053-9f50-4eb7-8295-6659fd9682b5",
   "metadata": {},
   "source": [
    "#### Q. No. 6. Create a DataFrame and add a new column based on an existing column."
   ]
  },
  {
   "cell_type": "code",
   "execution_count": 6,
   "id": "d84028dc-0c5c-4f63-aec3-717c4a98f611",
   "metadata": {},
   "outputs": [
    {
     "name": "stdout",
     "output_type": "stream",
     "text": [
      "     Name  Salary     Tax\n",
      "0   Akash   50000  5000.0\n",
      "1  Vikash   60000  6000.0\n",
      "2  Rupesh   70000  7000.0\n",
      "3  Suresh   80000  8000.0\n"
     ]
    }
   ],
   "source": [
    "data = {\n",
    "    'Name': ['Akash', 'Vikash', 'Rupesh', 'Suresh'],\n",
    "    'Salary': [50000, 60000, 70000, 80000]\n",
    "}\n",
    "\n",
    "df = pd.DataFrame(data)\n",
    "\n",
    "df['Tax'] = df['Salary'] * 0.10\n",
    "\n",
    "print(df)\n"
   ]
  },
  {
   "cell_type": "markdown",
   "id": "d189bc54-4932-4e82-ad7a-751bcebb5108",
   "metadata": {},
   "source": [
    "#### Q. No. 7.  Write a program to perform element-wise multiplication of two NumPy arrays."
   ]
  },
  {
   "cell_type": "code",
   "execution_count": 7,
   "id": "55e899f8-9718-4265-b0dd-40f14774e255",
   "metadata": {},
   "outputs": [
    {
     "name": "stdout",
     "output_type": "stream",
     "text": [
      "Element-wise multiplication result:\n",
      "[ 10  40  90 160]\n"
     ]
    }
   ],
   "source": [
    "import numpy as np\n",
    "\n",
    "array1 = np.array([1, 2, 3, 4])\n",
    "array2 = np.array([10, 20, 30, 40])\n",
    "\n",
    "result = array1 * array2\n",
    "\n",
    "print(\"Element-wise multiplication result:\")\n",
    "print(result)\n"
   ]
  },
  {
   "cell_type": "markdown",
   "id": "1f2d805a-2283-49bc-85c2-2a2b063364c3",
   "metadata": {},
   "source": [
    "#### Q. No. 8. Create a line plot with multiple lines using Matplotlib."
   ]
  },
  {
   "cell_type": "code",
   "execution_count": 11,
   "id": "18267dc1-97a2-4fdb-b4eb-53144f27fb88",
   "metadata": {},
   "outputs": [
    {
     "data": {
      "image/png": "[encoded data removed]",
      "text/plain": [
       "<Figure size 640x480 with 1 Axes>"
      ]
     },
     "metadata": {},
     "output_type": "display_data"
    }
   ],
   "source": [
    "import matplotlib.pyplot as plt\n",
    "\n",
    "years = [2018, 2019, 2020, 2021, 2022]\n",
    "\n",
    "product_A = [100, 120, 130, 150, 170]\n",
    "product_B = [90, 110, 115, 140, 160]\n",
    "product_C = [80, 95, 105, 125, 145]\n",
    "\n",
    "plt.plot(years, product_A, label='Product A', marker='o')\n",
    "plt.plot(years, product_B, label='Product B', marker='s')\n",
    "plt.plot(years, product_C, label='Product C', marker='^')\n",
    "\n",
    "plt.xlabel('Year')\n",
    "plt.ylabel('Sales')\n",
    "plt.title('Yearly Sales Comparison')\n",
    "plt.legend()\n",
    "plt.grid(True)\n",
    "\n",
    "plt.show()"
   ]
  },
  {
   "cell_type": "markdown",
   "id": "b4b91f30-ab81-4147-a8dc-da29d8276eb7",
   "metadata": {},
   "source": [
    "#### Q. No. 9. Generate a Pandas DataFrame and filter rows where a column value is greater than a threshold."
   ]
  },
  {
   "cell_type": "code",
   "execution_count": 14,
   "id": "c4fe19f8-3e19-47e5-af8f-a67952137e9f",
   "metadata": {},
   "outputs": [
    {
     "name": "stdout",
     "output_type": "stream",
     "text": [
      "Students with Score greater than 80\n",
      "     Name  Score\n",
      "0   Akash     85\n",
      "2  Rupesh     95\n",
      "4  Naresh     88\n"
     ]
    }
   ],
   "source": [
    "import pandas as pd\n",
    "\n",
    "data = {\n",
    "    'Name': ['Akash', 'Vikash', 'Rupesh', 'Suresh', 'Naresh'],\n",
    "    'Score': [85, 60, 95, 70, 88]\n",
    "}\n",
    "\n",
    "df = pd.DataFrame(data)\n",
    "\n",
    "threshold = 80\n",
    "\n",
    "filtered_df = df[df['Score'] > threshold]\n",
    "\n",
    "print(\"Students with Score greater than\", threshold)\n",
    "print(filtered_df)\n"
   ]
  },
  {
   "cell_type": "markdown",
   "id": "04c35a88-6be2-427a-9cee-773f93953e27",
   "metadata": {},
   "source": [
    "#### Q. No. 10. Create a histogram using Seaborn to visualize a distribution."
   ]
  },
  {
   "cell_type": "code",
   "execution_count": 15,
   "id": "113f53d4-ed18-4bf2-8e2d-8532acb8a03c",
   "metadata": {},
   "outputs": [
    {
     "data": {
      "image/png": "[encoded data removed]",
      "text/plain": [
       "<Figure size 640x480 with 1 Axes>"
      ]
     },
     "metadata": {},
     "output_type": "display_data"
    }
   ],
   "source": [
    "import seaborn as sns\n",
    "import matplotlib.pyplot as plt\n",
    "import numpy as np\n",
    "\n",
    "data = np.random.normal(loc=70, scale=10, size=100)\n",
    "\n",
    "sns.histplot(data, bins=10, kde=True, color='skyblue')\n",
    "\n",
    "plt.xlabel('Score')\n",
    "plt.ylabel('Frequency')\n",
    "plt.title('Distribution of Test Scores')\n",
    "\n",
    "plt.show()"
   ]
  },
  {
   "cell_type": "markdown",
   "id": "104440ad-fae5-4dce-9ddf-7fe738145981",
   "metadata": {},
   "source": [
    "#### Q. No. 11. Perform matrix multiplication using NumPy"
   ]
  },
  {
   "cell_type": "code",
   "execution_count": 16,
   "id": "b6417c9d-ffde-4da4-b8a2-7b3c999b8aef",
   "metadata": {},
   "outputs": [
    {
     "name": "stdout",
     "output_type": "stream",
     "text": [
      "Matrix Multiplication Result:\n",
      "[[19 22]\n",
      " [43 50]]\n"
     ]
    }
   ],
   "source": [
    "import numpy as np\n",
    "\n",
    "A = np.array([[1, 2],\n",
    "              [3, 4]])\n",
    "\n",
    "B = np.array([[5, 6],\n",
    "              [7, 8]])\n",
    "\n",
    "result = np.dot(A, B)  # or use A @ B\n",
    "\n",
    "print(\"Matrix Multiplication Result:\")\n",
    "print(result)"
   ]
  },
  {
   "cell_type": "markdown",
   "id": "61631b97-75b9-46e3-94e9-b9fd858d5060",
   "metadata": {},
   "source": [
    "#### Q. No. 12. Use Pandas to load a CSV file and display its first 5 rows."
   ]
  },
  {
   "cell_type": "code",
   "execution_count": 17,
   "id": "146da631-b245-4e1b-829a-30f8dcd6f58b",
   "metadata": {},
   "outputs": [
    {
     "name": "stdout",
     "output_type": "stream",
     "text": [
      "Matrix Multiplication Result:\n",
      "[[19 22]\n",
      " [43 50]]\n"
     ]
    }
   ],
   "source": [
    "import numpy as np\n",
    "\n",
    "A = np.array([[1, 2],\n",
    "              [3, 4]])\n",
    "\n",
    "B = np.array([[5, 6],\n",
    "              [7, 8]])\n",
    "\n",
    "result = np.dot(A, B)\n",
    "\n",
    "print(\"Matrix Multiplication Result:\")\n",
    "print(result)\n"
   ]
  },
  {
   "cell_type": "markdown",
   "id": "68d8798a-2c88-4dd7-ba9d-f4666ad0ee88",
   "metadata": {},
   "source": [
    "#### Q. No. 13. Create a 3D scatter plot using Plotly."
   ]
  },
  {
   "cell_type": "code",
   "execution_count": 18,
   "id": "46fd96de-59e8-4ca0-abdf-93fb0d292d7f",
   "metadata": {},
   "outputs": [
    {
     "data": {
      "application/vnd.plotly.v1+json": {
       "config": {
        "plotlyServerURL": "https://plot.ly"
       },
       "data": [
        {
         "hovertemplate": "Category=A<br>X=%{x}<br>Y=%{y}<br>Z=%{z}<extra></extra>",
         "legendgroup": "A",
         "marker": {
          "color": "#636efa",
          "symbol": "circle"
         },
         "mode": "markers",
         "name": "A",
         "scene": "scene",
         "showlegend": true,
         "type": "scatter3d",
         "x": {
          "bdata": "AQMF",
          "dtype": "i1"
         },
         "y": {
          "bdata": "CgwO",
          "dtype": "i1"
         },
         "z": {
          "bdata": "BRkt",
          "dtype": "i1"
         }
        },
        {
         "hovertemplate": "Category=B<br>X=%{x}<br>Y=%{y}<br>Z=%{z}<extra></extra>",
         "legendgroup": "B",
         "marker": {
          "color": "#EF553B",
          "symbol": "circle"
         },
         "mode": "markers",
         "name": "B",
         "scene": "scene",
         "showlegend": true,
         "type": "scatter3d",
         "x": {
          "bdata": "AgQ=",
          "dtype": "i1"
         },
         "y": {
          "bdata": "Cw0=",
          "dtype": "i1"
         },
         "z": {
          "bdata": "DyM=",
          "dtype": "i1"
         }
        }
       ],
       "layout": {
        "legend": {
         "title": {
          "text": "Category"
         },
         "tracegroupgap": 0
        },
        "scene": {
         "domain": {
          "x": [
           0,
           1
          ],
          "y": [
           0,
           1
          ]
         },
         "xaxis": {
          "title": {
           "text": "X"
          }
         },
         "yaxis": {
          "title": {
           "text": "Y"
          }
         },
         "zaxis": {
          "title": {
           "text": "Z"
          }
         }
        },
        "template": {
         "data": {
          "bar": [
           {
            "error_x": {
             "color": "#2a3f5f"
            },
            "error_y": {
             "color": "#2a3f5f"
            },
            "marker": {
             "line": {
              "color": "#E5ECF6",
              "width": 0.5
             },
             "pattern": {
              "fillmode": "overlay",
              "size": 10,
              "solidity": 0.2
             }
            },
            "type": "bar"
           }
          ],
          "barpolar": [
           {
            "marker": {
             "line": {
              "color": "#E5ECF6",
              "width": 0.5
             },
             "pattern": {
              "fillmode": "overlay",
              "size": 10,
              "solidity": 0.2
             }
            },
            "type": "barpolar"
           }
          ],
          "carpet": [
           {
            "aaxis": {
             "endlinecolor": "#2a3f5f",
             "gridcolor": "white",
             "linecolor": "white",
             "minorgridcolor": "white",
             "startlinecolor": "#2a3f5f"
            },
            "baxis": {
             "endlinecolor": "#2a3f5f",
             "gridcolor": "white",
             "linecolor": "white",
             "minorgridcolor": "white",
             "startlinecolor": "#2a3f5f"
            },
            "type": "carpet"
           }
          ],
          "choropleth": [
           {
            "colorbar": {
             "outlinewidth": 0,
             "ticks": ""
            },
            "type": "choropleth"
           }
          ],
          "contour": [
           {
            "colorbar": {
             "outlinewidth": 0,
             "ticks": ""
            },
            "colorscale": [
             [
              0,
              "#0d0887"
             ],
             [
              0.1111111111111111,
              "#46039f"
             ],
             [
              0.2222222222222222,
              "#7201a8"
             ],
             [
              0.3333333333333333,
              "#9c179e"
             ],
             [
              0.4444444444444444,
              "#bd3786"
             ],
             [
              0.5555555555555556,
              "#d8576b"
             ],
             [
              0.6666666666666666,
              "#ed7953"
             ],
             [
              0.7777777777777778,
              "#fb9f3a"
             ],
             [
              0.8888888888888888,
              "#fdca26"
             ],
             [
              1,
              "#f0f921"
             ]
            ],
            "type": "contour"
           }
          ],
          "contourcarpet": [
           {
            "colorbar": {
             "outlinewidth": 0,
             "ticks": ""
            },
            "type": "contourcarpet"
           }
          ],
          "heatmap": [
           {
            "colorbar": {
             "outlinewidth": 0,
             "ticks": ""
            },
            "colorscale": [
             [
              0,
              "#0d0887"
             ],
             [
              0.1111111111111111,
              "#46039f"
             ],
             [
              0.2222222222222222,
              "#7201a8"
             ],
             [
              0.3333333333333333,
              "#9c179e"
             ],
             [
              0.4444444444444444,
              "#bd3786"
             ],
             [
              0.5555555555555556,
              "#d8576b"
             ],
             [
              0.6666666666666666,
              "#ed7953"
             ],
             [
              0.7777777777777778,
              "#fb9f3a"
             ],
             [
              0.8888888888888888,
              "#fdca26"
             ],
             [
              1,
              "#f0f921"
             ]
            ],
            "type": "heatmap"
           }
          ],
          "histogram": [
           {
            "marker": {
             "pattern": {
              "fillmode": "overlay",
              "size": 10,
              "solidity": 0.2
             }
            },
            "type": "histogram"
           }
          ],
          "histogram2d": [
           {
            "colorbar": {
             "outlinewidth": 0,
             "ticks": ""
            },
            "colorscale": [
             [
              0,
              "#0d0887"
             ],
             [
              0.1111111111111111,
              "#46039f"
             ],
             [
              0.2222222222222222,
              "#7201a8"
             ],
             [
              0.3333333333333333,
              "#9c179e"
             ],
             [
              0.4444444444444444,
              "#bd3786"
             ],
             [
              0.5555555555555556,
              "#d8576b"
             ],
             [
              0.6666666666666666,
              "#ed7953"
             ],
             [
              0.7777777777777778,
              "#fb9f3a"
             ],
             [
              0.8888888888888888,
              "#fdca26"
             ],
             [
              1,
              "#f0f921"
             ]
            ],
            "type": "histogram2d"
           }
          ],
          "histogram2dcontour": [
           {
            "colorbar": {
             "outlinewidth": 0,
             "ticks": ""
            },
            "colorscale": [
             [
              0,
              "#0d0887"
             ],
             [
              0.1111111111111111,
              "#46039f"
             ],
             [
              0.2222222222222222,
              "#7201a8"
             ],
             [
              0.3333333333333333,
              "#9c179e"
             ],
             [
              0.4444444444444444,
              "#bd3786"
             ],
             [
              0.5555555555555556,
              "#d8576b"
             ],
             [
              0.6666666666666666,
              "#ed7953"
             ],
             [
              0.7777777777777778,
              "#fb9f3a"
             ],
             [
              0.8888888888888888,
              "#fdca26"
             ],
             [
              1,
              "#f0f921"
             ]
            ],
            "type": "histogram2dcontour"
           }
          ],
          "mesh3d": [
           {
            "colorbar": {
             "outlinewidth": 0,
             "ticks": ""
            },
            "type": "mesh3d"
           }
          ],
          "parcoords": [
           {
            "line": {
             "colorbar": {
              "outlinewidth": 0,
              "ticks": ""
             }
            },
            "type": "parcoords"
           }
          ],
          "pie": [
           {
            "automargin": true,
            "type": "pie"
           }
          ],
          "scatter": [
           {
            "fillpattern": {
             "fillmode": "overlay",
             "size": 10,
             "solidity": 0.2
            },
            "type": "scatter"
           }
          ],
          "scatter3d": [
           {
            "line": {
             "colorbar": {
              "outlinewidth": 0,
              "ticks": ""
             }
            },
            "marker": {
             "colorbar": {
              "outlinewidth": 0,
              "ticks": ""
             }
            },
            "type": "scatter3d"
           }
          ],
          "scattercarpet": [
           {
            "marker": {
             "colorbar": {
              "outlinewidth": 0,
              "ticks": ""
             }
            },
            "type": "scattercarpet"
           }
          ],
          "scattergeo": [
           {
            "marker": {
             "colorbar": {
              "outlinewidth": 0,
              "ticks": ""
             }
            },
            "type": "scattergeo"
           }
          ],
          "scattergl": [
           {
            "marker": {
             "colorbar": {
              "outlinewidth": 0,
              "ticks": ""
             }
            },
            "type": "scattergl"
           }
          ],
          "scattermap": [
           {
            "marker": {
             "colorbar": {
              "outlinewidth": 0,
              "ticks": ""
             }
            },
            "type": "scattermap"
           }
          ],
          "scattermapbox": [
           {
            "marker": {
             "colorbar": {
              "outlinewidth": 0,
              "ticks": ""
             }
            },
            "type": "scattermapbox"
           }
          ],
          "scatterpolar": [
           {
            "marker": {
             "colorbar": {
              "outlinewidth": 0,
              "ticks": ""
             }
            },
            "type": "scatterpolar"
           }
          ],
          "scatterpolargl": [
           {
            "marker": {
             "colorbar": {
              "outlinewidth": 0,
              "ticks": ""
             }
            },
            "type": "scatterpolargl"
           }
          ],
          "scatterternary": [
           {
            "marker": {
             "colorbar": {
              "outlinewidth": 0,
              "ticks": ""
             }
            },
            "type": "scatterternary"
           }
          ],
          "surface": [
           {
            "colorbar": {
             "outlinewidth": 0,
             "ticks": ""
            },
            "colorscale": [
             [
              0,
              "#0d0887"
             ],
             [
              0.1111111111111111,
              "#46039f"
             ],
             [
              0.2222222222222222,
              "#7201a8"
             ],
             [
              0.3333333333333333,
              "#9c179e"
             ],
             [
              0.4444444444444444,
              "#bd3786"
             ],
             [
              0.5555555555555556,
              "#d8576b"
             ],
             [
              0.6666666666666666,
              "#ed7953"
             ],
             [
              0.7777777777777778,
              "#fb9f3a"
             ],
             [
              0.8888888888888888,
              "#fdca26"
             ],
             [
              1,
              "#f0f921"
             ]
            ],
            "type": "surface"
           }
          ],
          "table": [
           {
            "cells": {
             "fill": {
              "color": "#EBF0F8"
             },
             "line": {
              "color": "white"
             }
            },
            "header": {
             "fill": {
              "color": "#C8D4E3"
             },
             "line": {
              "color": "white"
             }
            },
            "type": "table"
           }
          ]
         },
         "layout": {
          "annotationdefaults": {
           "arrowcolor": "#2a3f5f",
           "arrowhead": 0,
           "arrowwidth": 1
          },
          "autotypenumbers": "strict",
          "coloraxis": {
           "colorbar": {
            "outlinewidth": 0,
            "ticks": ""
           }
          },
          "colorscale": {
           "diverging": [
            [
             0,
             "#8e0152"
            ],
            [
             0.1,
             "#c51b7d"
            ],
            [
             0.2,
             "#de77ae"
            ],
            [
             0.3,
             "#f1b6da"
            ],
            [
             0.4,
             "#fde0ef"
            ],
            [
             0.5,
             "#f7f7f7"
            ],
            [
             0.6,
             "#e6f5d0"
            ],
            [
             0.7,
             "#b8e186"
            ],
            [
             0.8,
             "#7fbc41"
            ],
            [
             0.9,
             "#4d9221"
            ],
            [
             1,
             "#276419"
            ]
           ],
           "sequential": [
            [
             0,
             "#0d0887"
            ],
            [
             0.1111111111111111,
             "#46039f"
            ],
            [
             0.2222222222222222,
             "#7201a8"
            ],
            [
             0.3333333333333333,
             "#9c179e"
            ],
            [
             0.4444444444444444,
             "#bd3786"
            ],
            [
             0.5555555555555556,
             "#d8576b"
            ],
            [
             0.6666666666666666,
             "#ed7953"
            ],
            [
             0.7777777777777778,
             "#fb9f3a"
            ],
            [
             0.8888888888888888,
             "#fdca26"
            ],
            [
             1,
             "#f0f921"
            ]
           ],
           "sequentialminus": [
            [
             0,
             "#0d0887"
            ],
            [
             0.1111111111111111,
             "#46039f"
            ],
            [
             0.2222222222222222,
             "#7201a8"
            ],
            [
             0.3333333333333333,
             "#9c179e"
            ],
            [
             0.4444444444444444,
             "#bd3786"
            ],
            [
             0.5555555555555556,
             "#d8576b"
            ],
            [
             0.6666666666666666,
             "#ed7953"
            ],
            [
             0.7777777777777778,
             "#fb9f3a"
            ],
            [
             0.8888888888888888,
             "#fdca26"
            ],
            [
             1,
             "#f0f921"
            ]
           ]
          },
          "colorway": [
           "#636efa",
           "#EF553B",
           "#00cc96",
           "#ab63fa",
           "#FFA15A",
           "#19d3f3",
           "#FF6692",
           "#B6E880",
           "#FF97FF",
           "#FECB52"
          ],
          "font": {
           "color": "#2a3f5f"
          },
          "geo": {
           "bgcolor": "white",
           "lakecolor": "white",
           "landcolor": "#E5ECF6",
           "showlakes": true,
           "showland": true,
           "subunitcolor": "white"
          },
          "hoverlabel": {
           "align": "left"
          },
          "hovermode": "closest",
          "mapbox": {
           "style": "light"
          },
          "paper_bgcolor": "white",
          "plot_bgcolor": "#E5ECF6",
          "polar": {
           "angularaxis": {
            "gridcolor": "white",
            "linecolor": "white",
            "ticks": ""
           },
           "bgcolor": "#E5ECF6",
           "radialaxis": {
            "gridcolor": "white",
            "linecolor": "white",
            "ticks": ""
           }
          },
          "scene": {
           "xaxis": {
            "backgroundcolor": "#E5ECF6",
            "gridcolor": "white",
            "gridwidth": 2,
            "linecolor": "white",
            "showbackground": true,
            "ticks": "",
            "zerolinecolor": "white"
           },
           "yaxis": {
            "backgroundcolor": "#E5ECF6",
            "gridcolor": "white",
            "gridwidth": 2,
            "linecolor": "white",
            "showbackground": true,
            "ticks": "",
            "zerolinecolor": "white"
           },
           "zaxis": {
            "backgroundcolor": "#E5ECF6",
            "gridcolor": "white",
            "gridwidth": 2,
            "linecolor": "white",
            "showbackground": true,
            "ticks": "",
            "zerolinecolor": "white"
           }
          },
          "shapedefaults": {
           "line": {
            "color": "#2a3f5f"
           }
          },
          "ternary": {
           "aaxis": {
            "gridcolor": "white",
            "linecolor": "white",
            "ticks": ""
           },
           "baxis": {
            "gridcolor": "white",
            "linecolor": "white",
            "ticks": ""
           },
           "bgcolor": "#E5ECF6",
           "caxis": {
            "gridcolor": "white",
            "linecolor": "white",
            "ticks": ""
           }
          },
          "title": {
           "x": 0.05
          },
          "xaxis": {
           "automargin": true,
           "gridcolor": "white",
           "linecolor": "white",
           "ticks": "",
           "title": {
            "standoff": 15
           },
           "zerolinecolor": "white",
           "zerolinewidth": 2
          },
          "yaxis": {
           "automargin": true,
           "gridcolor": "white",
           "linecolor": "white",
           "ticks": "",
           "title": {
            "standoff": 15
           },
           "zerolinecolor": "white",
           "zerolinewidth": 2
          }
         }
        },
        "title": {
         "text": "3D Scatter Plot Example"
        }
       }
      }
     },
     "metadata": {},
     "output_type": "display_data"
    }
   ],
   "source": [
    "import plotly.express as px\n",
    "import pandas as pd\n",
    "\n",
    "data = {\n",
    "    'X': [1, 2, 3, 4, 5],\n",
    "    'Y': [10, 11, 12, 13, 14],\n",
    "    'Z': [5, 15, 25, 35, 45],\n",
    "    'Category': ['A', 'B', 'A', 'B', 'A']\n",
    "}\n",
    "\n",
    "df = pd.DataFrame(data)\n",
    "\n",
    "fig = px.scatter_3d(df, x='X', y='Y', z='Z',\n",
    "                    color='Category',\n",
    "                    title='3D Scatter Plot Example')\n",
    "\n",
    "fig.show()"
   ]
  },
  {
   "cell_type": "code",
   "execution_count": null,
   "id": "5412adca-aa6c-4f6b-b57b-4b863d68e76b",
   "metadata": {},
   "outputs": [],
   "source": []
  }
 ],
 "metadata": {
  "kernelspec": {
   "display_name": "Python 3 (ipykernel)",
   "language": "python",
   "name": "python3"
  },
  "language_info": {
   "codemirror_mode": {
    "name": "ipython",
    "version": 3
   },
   "file_extension": ".py",
   "mimetype": "text/x-python",
   "name": "python",
   "nbconvert_exporter": "python",
   "pygments_lexer": "ipython3",
   "version": "3.13.5"
  }
 },
 "nbformat": 4,
 "nbformat_minor": 5
}
